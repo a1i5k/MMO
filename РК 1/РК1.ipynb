{
  "nbformat": 4,
  "nbformat_minor": 0,
  "metadata": {
    "colab": {
      "provenance": []
    },
    "kernelspec": {
      "name": "python3",
      "display_name": "Python 3"
    },
    "language_info": {
      "name": "python"
    }
  },
  "cells": [
    {
      "cell_type": "markdown",
      "source": [
        "Журавлев Н.В., ИУ5-24М, Вариант 5"
      ],
      "metadata": {
        "id": "RR7sCgP2iTxQ"
      }
    },
    {
      "cell_type": "markdown",
      "source": [
        "Получение датасета"
      ],
      "metadata": {
        "id": "hL_qO-Ph7HE7"
      }
    },
    {
      "cell_type": "code",
      "source": [
        "import numpy as np\n",
        "import pandas as pd\n",
        "import seaborn as sns\n",
        "import matplotlib.pyplot as plt\n",
        "\n",
        "\n",
        "np.random.seed(0)\n",
        "df = pd.DataFrame({\n",
        "    'Category': np.random.choice(['A', 'B', 'C'], size=100),\n",
        "    'Value': np.random.normal(size=100)\n",
        "})"
      ],
      "metadata": {
        "id": "wjp-FQPe7azO"
      },
      "execution_count": 1,
      "outputs": []
    },
    {
      "cell_type": "markdown",
      "source": [
        "Задача №5.\n",
        "Для набора данных проведите кодирование одного (произвольного) категориального признака с использованием метода \"one-hot encoding\"."
      ],
      "metadata": {
        "id": "wtJx_2h57a_T"
      }
    },
    {
      "cell_type": "markdown",
      "source": [
        "One-Hot Encoding используется для представления категориальных переменных в виде числовых значений в моделях машинного обучения.\n",
        "При использовании однозначного кодирования каждая категория в наборе данных представляется как бинарный вектор, где каждый элемент вектора соответствует уникальной категории.\n",
        "Если точка данных относится к определенной категории, то элемент, соответствующий этой категории, устанавливается в 1, а все остальные элементы устанавливаются в 0."
      ],
      "metadata": {
        "id": "Orft_PvFs12-"
      }
    },
    {
      "cell_type": "code",
      "execution_count": 2,
      "metadata": {
        "id": "qDI9vrvN6v2K",
        "colab": {
          "base_uri": "https://localhost:8080/"
        },
        "outputId": "b3db9faf-d3f8-4e36-8cbc-0f59c109e864"
      },
      "outputs": [
        {
          "output_type": "stream",
          "name": "stdout",
          "text": [
            "['A', 'B', 'C']\n",
            "[[1. 0. 0.]\n",
            " [0. 1. 0.]\n",
            " [1. 0. 0.]\n",
            " [0. 1. 0.]\n",
            " [0. 1. 0.]\n",
            " [0. 0. 1.]\n",
            " [1. 0. 0.]\n",
            " [0. 0. 1.]\n",
            " [1. 0. 0.]\n",
            " [1. 0. 0.]\n",
            " [1. 0. 0.]\n",
            " [0. 0. 1.]\n",
            " [0. 1. 0.]\n",
            " [0. 0. 1.]\n",
            " [0. 0. 1.]\n",
            " [1. 0. 0.]\n",
            " [0. 1. 0.]\n",
            " [0. 1. 0.]\n",
            " [0. 1. 0.]\n",
            " [0. 1. 0.]\n",
            " [1. 0. 0.]\n",
            " [0. 1. 0.]\n",
            " [1. 0. 0.]\n",
            " [1. 0. 0.]\n",
            " [0. 1. 0.]\n",
            " [0. 0. 1.]\n",
            " [1. 0. 0.]\n",
            " [0. 0. 1.]\n",
            " [1. 0. 0.]\n",
            " [0. 1. 0.]\n",
            " [0. 1. 0.]\n",
            " [0. 0. 1.]\n",
            " [1. 0. 0.]\n",
            " [0. 1. 0.]\n",
            " [0. 1. 0.]\n",
            " [0. 1. 0.]\n",
            " [1. 0. 0.]\n",
            " [0. 0. 1.]\n",
            " [1. 0. 0.]\n",
            " [0. 0. 1.]\n",
            " [0. 0. 1.]\n",
            " [1. 0. 0.]\n",
            " [0. 0. 1.]\n",
            " [1. 0. 0.]\n",
            " [1. 0. 0.]\n",
            " [1. 0. 0.]\n",
            " [0. 1. 0.]\n",
            " [0. 1. 0.]\n",
            " [0. 0. 1.]\n",
            " [1. 0. 0.]\n",
            " [1. 0. 0.]\n",
            " [0. 1. 0.]\n",
            " [1. 0. 0.]\n",
            " [0. 1. 0.]\n",
            " [0. 0. 1.]\n",
            " [0. 0. 1.]\n",
            " [1. 0. 0.]\n",
            " [0. 1. 0.]\n",
            " [0. 1. 0.]\n",
            " [0. 1. 0.]\n",
            " [0. 1. 0.]\n",
            " [0. 0. 1.]\n",
            " [0. 0. 1.]\n",
            " [0. 0. 1.]\n",
            " [1. 0. 0.]\n",
            " [0. 0. 1.]\n",
            " [0. 1. 0.]\n",
            " [1. 0. 0.]\n",
            " [0. 1. 0.]\n",
            " [0. 0. 1.]\n",
            " [1. 0. 0.]\n",
            " [1. 0. 0.]\n",
            " [0. 0. 1.]\n",
            " [1. 0. 0.]\n",
            " [1. 0. 0.]\n",
            " [1. 0. 0.]\n",
            " [1. 0. 0.]\n",
            " [1. 0. 0.]\n",
            " [1. 0. 0.]\n",
            " [0. 0. 1.]\n",
            " [1. 0. 0.]\n",
            " [0. 0. 1.]\n",
            " [0. 1. 0.]\n",
            " [0. 1. 0.]\n",
            " [0. 1. 0.]\n",
            " [1. 0. 0.]\n",
            " [0. 1. 0.]\n",
            " [0. 1. 0.]\n",
            " [0. 1. 0.]\n",
            " [1. 0. 0.]\n",
            " [0. 1. 0.]\n",
            " [0. 0. 1.]\n",
            " [1. 0. 0.]\n",
            " [0. 1. 0.]\n",
            " [0. 0. 1.]\n",
            " [1. 0. 0.]\n",
            " [0. 0. 1.]\n",
            " [1. 0. 0.]\n",
            " [0. 1. 0.]\n",
            " [0. 0. 1.]]\n"
          ]
        }
      ],
      "source": [
        "def one_hot_encoding(data):\n",
        "    unique_values = np.unique(data)\n",
        "\n",
        "    count_value = len(unique_values)\n",
        "    result = np.zeros((len(data), count_value))\n",
        "\n",
        "    for i, sequence in enumerate(data):\n",
        "        for j, value in enumerate(unique_values):\n",
        "            if sequence == value:\n",
        "                result[i][j] = 1\n",
        "    return result, unique_values.tolist()\n",
        "\n",
        "\n",
        "array, name = one_hot_encoding(df['Category'].to_numpy())\n",
        "print(name)\n",
        "print(array)"
      ]
    },
    {
      "cell_type": "markdown",
      "source": [
        "Задача №25.\n",
        "Для набора данных для одного (произвольного) числового признака проведите обнаружение и удаление выбросов на основе межквартильного размаха."
      ],
      "metadata": {
        "id": "kq7G6Voa7R9D"
      }
    },
    {
      "cell_type": "markdown",
      "source": [
        "Для определения выбросов по методу IQR необходимо\n",
        "\n",
        "1.   Вычислить Q1 (первый квартиль), Q3 (третий квартиль) и межквартильный размах (IQR).\n",
        "2.   Выбросы определяются как значения, которые находятся за пределами диапазона Q1-1.5IQR до Q3+1.5IQR."
      ],
      "metadata": {
        "id": "3vk4Y78As4Qk"
      }
    },
    {
      "cell_type": "code",
      "source": [
        "def IQR(data):\n",
        "    Q1 = data.quantile(0.25)\n",
        "    Q3 = data.quantile(0.75)\n",
        "\n",
        "    IQR = Q3 - Q1\n",
        "\n",
        "    lower_bound = Q1 - 1.5 * IQR\n",
        "    upper_bound = Q3 + 1.5 * IQR\n",
        "\n",
        "    result = data[(data.gt(lower_bound)) & (data.lt(upper_bound))].dropna()\n",
        "    return result\n",
        "\n",
        "\n",
        "# Добавление выброса\n",
        "df.loc[len(df.index)] = ['A', -10]\n",
        "\n",
        "data_without_outliers = IQR(df['Value'])\n",
        "data_without_outliers"
      ],
      "metadata": {
        "id": "1Ty0pWJO7Rcm",
        "colab": {
          "base_uri": "https://localhost:8080/"
        },
        "outputId": "09c2891b-c11b-4f56-c370-426ef48062cc"
      },
      "execution_count": 3,
      "outputs": [
        {
          "output_type": "execute_result",
          "data": {
            "text/plain": [
              "0    -0.686589\n",
              "1     0.014873\n",
              "2    -0.375666\n",
              "3    -0.038224\n",
              "4     0.367974\n",
              "        ...   \n",
              "95   -0.033236\n",
              "96    0.065641\n",
              "97    0.265786\n",
              "98    1.151842\n",
              "99    0.138043\n",
              "Name: Value, Length: 100, dtype: float64"
            ]
          },
          "metadata": {},
          "execution_count": 3
        }
      ]
    },
    {
      "cell_type": "markdown",
      "source": [
        "Для студентов группы ИУ5-24М, ИУ5И-24М - для произвольной колонки данных построить график \"Скрипичная диаграмма (violin plot)\"."
      ],
      "metadata": {
        "id": "2GtJ6TRK7EM7"
      }
    },
    {
      "cell_type": "code",
      "source": [
        "sns.violinplot(x='Category', y='Value', data=df)\n",
        "plt.show()"
      ],
      "metadata": {
        "colab": {
          "base_uri": "https://localhost:8080/",
          "height": 449
        },
        "id": "EnoJP4Iv68De",
        "outputId": "73590f81-c8c8-42da-ab9c-d269335fe4b2"
      },
      "execution_count": 4,
      "outputs": [
        {
          "output_type": "display_data",
          "data": {
            "text/plain": [
              "<Figure size 640x480 with 1 Axes>"
            ],
            "image/png": "[encoded data removed]"
          },
          "metadata": {}
        }
      ]
    }
  ]
}