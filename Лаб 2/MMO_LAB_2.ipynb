{
  "nbformat": 4,
  "nbformat_minor": 0,
  "metadata": {
    "colab": {
      "provenance": []
    },
    "kernelspec": {
      "name": "python3",
      "display_name": "Python 3"
    },
    "language_info": {
      "name": "python"
    }
  },
  "cells": [
    {
      "cell_type": "markdown",
      "source": [
        "Журавлев Н.В., ИУ5-24М, Вариант 5"
      ],
      "metadata": {
        "id": "RR7sCgP2iTxQ"
      }
    },
    {
      "cell_type": "markdown",
      "source": [
        "\n",
        "Задание:\n",
        "1.   Выбрать набор данных (датасет), содержащий категориальные и числовые признаки и пропуски в данных. Для выполнения следующих пунктов можно использовать несколько различных наборов данных (один для обработки пропусков, другой для категориальных признаков и т.д.).\n",
        "2.   Для выбранного датасета (датасетов) на основе материалов лекций решить следующие задачи:\n",
        "*   устранение пропусков в данных;\n",
        "*   кодирование категориальных признаков;\n",
        "*   нормализация числовых признаков.\n",
        "\n",
        "\n",
        "\n"
      ],
      "metadata": {
        "id": "WF8HPnz4COg4"
      }
    },
    {
      "cell_type": "markdown",
      "source": [
        "Получение датасета"
      ],
      "metadata": {
        "id": "hL_qO-Ph7HE7"
      }
    },
    {
      "cell_type": "code",
      "source": [
        "import matplotlib.pyplot as plt\n",
        "import numpy as np\n",
        "import pandas as pd\n",
        "import seaborn as sns\n",
        "import scipy.stats as stats\n",
        "\n",
        "FILE_NAME = 'movies_youtube_sentiments.csv'\n",
        "df = pd.read_csv(FILE_NAME, on_bad_lines='skip', sep=',', comment='#', index_col=False)"
      ],
      "metadata": {
        "id": "wjp-FQPe7azO"
      },
      "execution_count": null,
      "outputs": []
    },
    {
      "cell_type": "markdown",
      "source": [
        "Устранение пропусков в данных через удаление пропущенных значений"
      ],
      "metadata": {
        "id": "zF9v0OZtCRSX"
      }
    },
    {
      "cell_type": "code",
      "source": [
        "print(df.shape)\n",
        "df = df.dropna()\n",
        "print(df.shape)"
      ],
      "metadata": {
        "colab": {
          "base_uri": "https://localhost:8080/"
        },
        "id": "3-ew_tOFCRh3",
        "outputId": "753b0f5c-fded-4031-ce0c-a97154ccc5ae"
      },
      "execution_count": null,
      "outputs": [
        {
          "output_type": "stream",
          "name": "stdout",
          "text": [
            "(1105, 18)\n",
            "(900, 18)\n"
          ]
        }
      ]
    },
    {
      "cell_type": "markdown",
      "source": [
        "Кодирование категориальных признаков через one-hot encoding"
      ],
      "metadata": {
        "id": "XxZ0b454CV6S"
      }
    },
    {
      "cell_type": "code",
      "execution_count": null,
      "metadata": {
        "id": "qDI9vrvN6v2K",
        "colab": {
          "base_uri": "https://localhost:8080/"
        },
        "outputId": "4d30f738-f293-4a40-d556-a381dead9074"
      },
      "outputs": [
        {
          "output_type": "stream",
          "name": "stdout",
          "text": [
            "['Action', 'Adventure', 'Animation', 'Biography', 'Comedy', 'Crime', 'Drama', 'Fantasy', 'Horror', 'Mystery', 'Romance', 'Sci-Fi', 'Thriller']\n",
            "[[0. 1. 0. ... 0. 0. 0.]\n",
            " [0. 0. 0. ... 0. 0. 0.]\n",
            " [0. 0. 0. ... 0. 0. 0.]\n",
            " ...\n",
            " [0. 0. 0. ... 0. 0. 0.]\n",
            " [0. 1. 0. ... 0. 0. 0.]\n",
            " [1. 0. 0. ... 0. 0. 0.]]\n"
          ]
        }
      ],
      "source": [
        "def one_hot_encoding(data):\n",
        "    unique_values = np.unique(data)\n",
        "\n",
        "    count_value = len(unique_values)\n",
        "    result = np.zeros((len(data), count_value))\n",
        "\n",
        "    for i, sequence in enumerate(data):\n",
        "        for j, value in enumerate(unique_values):\n",
        "            if sequence == value:\n",
        "                result[i][j] = 1\n",
        "    return result, unique_values.tolist()\n",
        "\n",
        "\n",
        "array, name = one_hot_encoding(df['genre'].to_numpy())\n",
        "print(name)\n",
        "print(array)"
      ]
    },
    {
      "cell_type": "markdown",
      "source": [
        "Нормализация числовых признаков через преобразование Йео-Джонсона"
      ],
      "metadata": {
        "id": "h5p3jelfCWck"
      }
    },
    {
      "cell_type": "code",
      "source": [
        "def diagnostic_plots(df, variable):\n",
        "    plt.figure(figsize=(15,6))\n",
        "    # гистограмма\n",
        "    plt.subplot(1, 2, 1)\n",
        "    df[variable].hist(bins=30)\n",
        "    ## Q-Q plot\n",
        "    plt.subplot(1, 2, 2)\n",
        "    stats.probplot(df[variable], dist=\"norm\", plot=plt)\n",
        "    plt.show()\n",
        "\n",
        "# Необходимо преобразовать данные к действительному типу\n",
        "df['gross'] = df['gross'].astype('float')\n",
        "df['gross_yeojohnson'], param = stats.yeojohnson(df['gross'])\n",
        "print('Оптимальное значение λ = {}'.format(param))\n",
        "# diagnostic_plots(df, 'gross_yeojohnson')\n",
        "df['gross_yeojohnson']"
      ],
      "metadata": {
        "id": "1Ty0pWJO7Rcm",
        "colab": {
          "base_uri": "https://localhost:8080/"
        },
        "outputId": "ecc07984-c718-4172-b028-eec7203d5c8a"
      },
      "execution_count": null,
      "outputs": [
        {
          "output_type": "stream",
          "name": "stdout",
          "text": [
            "Оптимальное значение λ = 0.19626141299062172\n"
          ]
        },
        {
          "output_type": "stream",
          "name": "stderr",
          "text": [
            "<ipython-input-5-603ca371cf2c>:12: SettingWithCopyWarning: \n",
            "A value is trying to be set on a copy of a slice from a DataFrame.\n",
            "Try using .loc[row_indexer,col_indexer] = value instead\n",
            "\n",
            "See the caveats in the documentation: https://pandas.pydata.org/pandas-docs/stable/user_guide/indexing.html#returning-a-view-versus-a-copy\n",
            "  df['gross'] = df['gross'].astype('float')\n",
            "<ipython-input-5-603ca371cf2c>:13: SettingWithCopyWarning: \n",
            "A value is trying to be set on a copy of a slice from a DataFrame.\n",
            "Try using .loc[row_indexer,col_indexer] = value instead\n",
            "\n",
            "See the caveats in the documentation: https://pandas.pydata.org/pandas-docs/stable/user_guide/indexing.html#returning-a-view-versus-a-copy\n",
            "  df['gross_yeojohnson'], param = stats.yeojohnson(df['gross'])\n"
          ]
        },
        {
          "output_type": "execute_result",
          "data": {
            "text/plain": [
              "0       286.125423\n",
              "1       206.792632\n",
              "2       203.115833\n",
              "3       191.664916\n",
              "4       240.156381\n",
              "           ...    \n",
              "1096    121.891935\n",
              "1100     87.307162\n",
              "1101    127.091789\n",
              "1102    205.985124\n",
              "1104    141.878250\n",
              "Name: gross_yeojohnson, Length: 900, dtype: float64"
            ]
          },
          "metadata": {},
          "execution_count": 5
        }
      ]
    }
  ]
}